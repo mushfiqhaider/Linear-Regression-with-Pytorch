{
  "nbformat": 4,
  "nbformat_minor": 0,
  "metadata": {
    "colab": {
      "provenance": [],
      "gpuType": "T4"
    },
    "kernelspec": {
      "name": "python3",
      "display_name": "Python 3"
    },
    "language_info": {
      "name": "python"
    },
    "accelerator": "GPU"
  },
  "cells": [
    {
      "cell_type": "code",
      "execution_count": 13,
      "metadata": {
        "id": "tr0gKTy65Czn"
      },
      "outputs": [],
      "source": [
        "import torch\n",
        "import numpy as np\n",
        "import pandas as pd\n",
        "import matplotlib.pyplot as plt"
      ]
    },
    {
      "cell_type": "code",
      "source": [
        "#initialising dataset\n",
        "weight=0.7\n",
        "bias=0.3\n",
        "start=0\n",
        "end=1\n",
        "step=0.02\n",
        "X=torch.arange(start,end,step).unsqueeze(dim=1)\n",
        "y=weight*X+bias\n",
        "\n",
        "X[:10],y[:10]"
      ],
      "metadata": {
        "colab": {
          "base_uri": "https://localhost:8080/"
        },
        "id": "62-vHUib5q44",
        "outputId": "22ac62bd-b7a2-4ea2-9626-7aae38b6badd"
      },
      "execution_count": 15,
      "outputs": [
        {
          "output_type": "execute_result",
          "data": {
            "text/plain": [
              "(tensor([[0.0000],\n",
              "         [0.0200],\n",
              "         [0.0400],\n",
              "         [0.0600],\n",
              "         [0.0800],\n",
              "         [0.1000],\n",
              "         [0.1200],\n",
              "         [0.1400],\n",
              "         [0.1600],\n",
              "         [0.1800]]),\n",
              " tensor([[0.3000],\n",
              "         [0.3140],\n",
              "         [0.3280],\n",
              "         [0.3420],\n",
              "         [0.3560],\n",
              "         [0.3700],\n",
              "         [0.3840],\n",
              "         [0.3980],\n",
              "         [0.4120],\n",
              "         [0.4260]]))"
            ]
          },
          "metadata": {},
          "execution_count": 15
        }
      ]
    },
    {
      "cell_type": "code",
      "source": [
        "#splitting data into train and test set\n",
        "train_split=int(0.8*len(X))\n",
        "X_train,y_train=X[:train_split],y[:train_split]\n",
        "X_test,y_test=X[train_split:],y[train_split:]"
      ],
      "metadata": {
        "id": "h8fH61ji5rfS"
      },
      "execution_count": 16,
      "outputs": []
    },
    {
      "cell_type": "code",
      "source": [
        "from torch import nn\n",
        "\n",
        "class LinearRegressionModel(torch.nn.Module):\n",
        "  def __init__(self):\n",
        "    super().__init__()\n",
        "    self.weights=nn.Parameter(torch.randn(1,dtype=torch.float32,requires_grad=True))\n",
        "    self.bias=nn.Parameter(torch.randn(1,dtype=torch.float32,requires_grad=True))\n",
        "\n",
        "  #forward defines the computation in the model\n",
        "  def forward(self,x:torch.Tensor)->torch.Tensor:\n",
        "      return self.weights*x + self.bias"
      ],
      "metadata": {
        "id": "_JgNYiBo5roS"
      },
      "execution_count": 17,
      "outputs": []
    },
    {
      "cell_type": "code",
      "source": [
        "torch.manual_seed(42)\n",
        "\n",
        "model=LinearRegressionModel()\n",
        "\n",
        "#Show named parameters\n",
        "model.state_dict()"
      ],
      "metadata": {
        "id": "3Klbj90b5r0C",
        "colab": {
          "base_uri": "https://localhost:8080/"
        },
        "outputId": "1cadbf5c-edc0-4fba-bd1a-b75b9ff280fe"
      },
      "execution_count": 18,
      "outputs": [
        {
          "output_type": "execute_result",
          "data": {
            "text/plain": [
              "OrderedDict([('weights', tensor([0.3367])), ('bias', tensor([0.1288]))])"
            ]
          },
          "metadata": {},
          "execution_count": 18
        }
      ]
    },
    {
      "cell_type": "code",
      "source": [
        "def plot_predictions(train_data=X_train,\n",
        "                     train_labels=y_train,\n",
        "                     test_data=X_test,\n",
        "                     test_labels=y_test,\n",
        "                     predictions=None):\n",
        "\n",
        "  #Plots training data, test data and compares predictions.\n",
        "\n",
        "  plt.figure(figsize=(10, 7))\n",
        "\n",
        "  # Plot training data in blue\n",
        "  plt.scatter(train_data, train_labels, c=\"b\", s=4, label=\"Training data\")\n",
        "\n",
        "  # Plot test data in green\n",
        "  plt.scatter(test_data, test_labels, c=\"g\", s=4, label=\"Testing data\")\n",
        "\n",
        "  if predictions is not None:\n",
        "    # Plot the predictions in red (predictions were made on the test data)\n",
        "    plt.scatter(test_data, predictions, c=\"r\", s=4, label=\"Predictions\")\n",
        "\n",
        "  # Show the legend\n",
        "  plt.legend(prop={\"size\": 14});"
      ],
      "metadata": {
        "id": "VORGKE0TX3jd"
      },
      "execution_count": 19,
      "outputs": []
    },
    {
      "cell_type": "code",
      "source": [
        "plot_predictions()"
      ],
      "metadata": {
        "id": "BIiKVO6cX35p",
        "colab": {
          "base_uri": "https://localhost:8080/",
          "height": 599
        },
        "outputId": "8c19894b-d819-40d6-c724-0f7e54724c7e"
      },
      "execution_count": 20,
      "outputs": [
        {
          "output_type": "display_data",
          "data": {
            "text/plain": [
              "<Figure size 1000x700 with 1 Axes>"
            ],
            "image/png": "[encoded data removed]"
          },
          "metadata": {}
        }
      ]
    },
    {
      "cell_type": "code",
      "source": [
        "#Creating a loss function\n",
        "l1_loss=nn.L1Loss()#MAE loss\n",
        "\n",
        "#Creating an optimizer\n",
        "optimizer=torch.optim.SGD(params=model.parameters(),lr=0.01)#Stochastic gradient descent. Parameters are model's parameters and lr=learning rate"
      ],
      "metadata": {
        "id": "g0F1BqSQX4D9"
      },
      "execution_count": 21,
      "outputs": []
    },
    {
      "cell_type": "code",
      "source": [
        "#training the model\n",
        "torch.manual_seed(42)\n",
        "\n",
        "epochs=100\n",
        "\n",
        "train_loss_values=[]\n",
        "test_loss_values=[]\n",
        "epoch_count=[]\n",
        "\n",
        "for epoch in range(epochs):\n",
        "  model.train()\n",
        "  y_pred=model(X_train)\n",
        "  loss=l1_loss(y_pred,y_train)\n",
        "\n",
        "  optimizer.zero_grad()\n",
        "  loss.backward()\n",
        "  optimizer.step()\n",
        "\n",
        "  model.eval()\n",
        "  with torch.inference_mode():\n",
        "    test_pred=model(X_test)\n",
        "    test_loss=l1_loss(test_pred,y_test)\n",
        "\n",
        "    if epochs%10==0:\n",
        "        epoch_count.append(epoch)\n",
        "        train_loss_values.append(loss.detach().numpy())\n",
        "        test_loss_values.append(test_loss.detach().numpy())\n",
        "        print(f\"Epoch: {epoch} | MAE Train Loss: {loss} | MAE Test Loss: {test_loss} \")\n"
      ],
      "metadata": {
        "id": "VwjYjIqaX4Mo",
        "colab": {
          "base_uri": "https://localhost:8080/"
        },
        "outputId": "b833f7c1-55ad-48a1-80fe-733e684465a9"
      },
      "execution_count": 22,
      "outputs": [
        {
          "output_type": "stream",
          "name": "stdout",
          "text": [
            "Epoch: 0 | MAE Train Loss: 0.31288138031959534 | MAE Test Loss: 0.48106518387794495 \n",
            "Epoch: 1 | MAE Train Loss: 0.3013603389263153 | MAE Test Loss: 0.4675942063331604 \n",
            "Epoch: 2 | MAE Train Loss: 0.28983935713768005 | MAE Test Loss: 0.4541231691837311 \n",
            "Epoch: 3 | MAE Train Loss: 0.2783183455467224 | MAE Test Loss: 0.44065219163894653 \n",
            "Epoch: 4 | MAE Train Loss: 0.26679736375808716 | MAE Test Loss: 0.4271811842918396 \n",
            "Epoch: 5 | MAE Train Loss: 0.2552763521671295 | MAE Test Loss: 0.41371020674705505 \n",
            "Epoch: 6 | MAE Train Loss: 0.24375534057617188 | MAE Test Loss: 0.40023916959762573 \n",
            "Epoch: 7 | MAE Train Loss: 0.23223432898521423 | MAE Test Loss: 0.3867681920528412 \n",
            "Epoch: 8 | MAE Train Loss: 0.22071333229541779 | MAE Test Loss: 0.37329721450805664 \n",
            "Epoch: 9 | MAE Train Loss: 0.20919232070446014 | MAE Test Loss: 0.3598262071609497 \n",
            "Epoch: 10 | MAE Train Loss: 0.1976713240146637 | MAE Test Loss: 0.3463551998138428 \n",
            "Epoch: 11 | MAE Train Loss: 0.18615034222602844 | MAE Test Loss: 0.3328842222690582 \n",
            "Epoch: 12 | MAE Train Loss: 0.1746293306350708 | MAE Test Loss: 0.3194132149219513 \n",
            "Epoch: 13 | MAE Train Loss: 0.16310831904411316 | MAE Test Loss: 0.30594223737716675 \n",
            "Epoch: 14 | MAE Train Loss: 0.1515873372554779 | MAE Test Loss: 0.2924712300300598 \n",
            "Epoch: 15 | MAE Train Loss: 0.14006635546684265 | MAE Test Loss: 0.27900025248527527 \n",
            "Epoch: 16 | MAE Train Loss: 0.1285453587770462 | MAE Test Loss: 0.2655292749404907 \n",
            "Epoch: 17 | MAE Train Loss: 0.11702437698841095 | MAE Test Loss: 0.2520582973957062 \n",
            "Epoch: 18 | MAE Train Loss: 0.1060912236571312 | MAE Test Loss: 0.2395961582660675 \n",
            "Epoch: 19 | MAE Train Loss: 0.09681284427642822 | MAE Test Loss: 0.22817862033843994 \n",
            "Epoch: 20 | MAE Train Loss: 0.08908725529909134 | MAE Test Loss: 0.21729660034179688 \n",
            "Epoch: 21 | MAE Train Loss: 0.08227583020925522 | MAE Test Loss: 0.2069590985774994 \n",
            "Epoch: 22 | MAE Train Loss: 0.07638873159885406 | MAE Test Loss: 0.19773726165294647 \n",
            "Epoch: 23 | MAE Train Loss: 0.07160007208585739 | MAE Test Loss: 0.1890866756439209 \n",
            "Epoch: 24 | MAE Train Loss: 0.06747635453939438 | MAE Test Loss: 0.18101617693901062 \n",
            "Epoch: 25 | MAE Train Loss: 0.06395438313484192 | MAE Test Loss: 0.17353470623493195 \n",
            "Epoch: 26 | MAE Train Loss: 0.06097004935145378 | MAE Test Loss: 0.16665108501911163 \n",
            "Epoch: 27 | MAE Train Loss: 0.05845819041132927 | MAE Test Loss: 0.16037428379058838 \n",
            "Epoch: 28 | MAE Train Loss: 0.05635259300470352 | MAE Test Loss: 0.15471318364143372 \n",
            "Epoch: 29 | MAE Train Loss: 0.0545857772231102 | MAE Test Loss: 0.14967669546604156 \n",
            "Epoch: 30 | MAE Train Loss: 0.053148526698350906 | MAE Test Loss: 0.14464017748832703 \n",
            "Epoch: 31 | MAE Train Loss: 0.05181945487856865 | MAE Test Loss: 0.14023718237876892 \n",
            "Epoch: 32 | MAE Train Loss: 0.05069301277399063 | MAE Test Loss: 0.13647659122943878 \n",
            "Epoch: 33 | MAE Train Loss: 0.0498228520154953 | MAE Test Loss: 0.13271598517894745 \n",
            "Epoch: 34 | MAE Train Loss: 0.04895269125699997 | MAE Test Loss: 0.12895536422729492 \n",
            "Epoch: 35 | MAE Train Loss: 0.04819351062178612 | MAE Test Loss: 0.12584610283374786 \n",
            "Epoch: 36 | MAE Train Loss: 0.047531817108392715 | MAE Test Loss: 0.12273679673671722 \n",
            "Epoch: 37 | MAE Train Loss: 0.04692792519927025 | MAE Test Loss: 0.1202877014875412 \n",
            "Epoch: 38 | MAE Train Loss: 0.04642331600189209 | MAE Test Loss: 0.11783860623836517 \n",
            "Epoch: 39 | MAE Train Loss: 0.04591871052980423 | MAE Test Loss: 0.11538954079151154 \n",
            "Epoch: 40 | MAE Train Loss: 0.04543796554207802 | MAE Test Loss: 0.11360953003168106 \n",
            "Epoch: 41 | MAE Train Loss: 0.04503796249628067 | MAE Test Loss: 0.11182951927185059 \n",
            "Epoch: 42 | MAE Train Loss: 0.04463795945048332 | MAE Test Loss: 0.1100495308637619 \n",
            "Epoch: 43 | MAE Train Loss: 0.04423796385526657 | MAE Test Loss: 0.10826952755451202 \n",
            "Epoch: 44 | MAE Train Loss: 0.04383796453475952 | MAE Test Loss: 0.10648951679468155 \n",
            "Epoch: 45 | MAE Train Loss: 0.04343796148896217 | MAE Test Loss: 0.10470950603485107 \n",
            "Epoch: 46 | MAE Train Loss: 0.043074630200862885 | MAE Test Loss: 0.10360751301050186 \n",
            "Epoch: 47 | MAE Train Loss: 0.04272563382983208 | MAE Test Loss: 0.10250549018383026 \n",
            "Epoch: 48 | MAE Train Loss: 0.04237663000822067 | MAE Test Loss: 0.10140349715948105 \n",
            "Epoch: 49 | MAE Train Loss: 0.04202762991189957 | MAE Test Loss: 0.10030148178339005 \n",
            "Epoch: 50 | MAE Train Loss: 0.04167863354086876 | MAE Test Loss: 0.09919948130846024 \n",
            "Epoch: 51 | MAE Train Loss: 0.04132963344454765 | MAE Test Loss: 0.09809747338294983 \n",
            "Epoch: 52 | MAE Train Loss: 0.04098063334822655 | MAE Test Loss: 0.09699545800685883 \n",
            "Epoch: 53 | MAE Train Loss: 0.04063162952661514 | MAE Test Loss: 0.09589345753192902 \n",
            "Epoch: 54 | MAE Train Loss: 0.040282636880874634 | MAE Test Loss: 0.0947914719581604 \n",
            "Epoch: 55 | MAE Train Loss: 0.039933640509843826 | MAE Test Loss: 0.09368947893381119 \n",
            "Epoch: 56 | MAE Train Loss: 0.03958464413881302 | MAE Test Loss: 0.09258746355772018 \n",
            "Epoch: 57 | MAE Train Loss: 0.03923564404249191 | MAE Test Loss: 0.09148545563220978 \n",
            "Epoch: 58 | MAE Train Loss: 0.03888664394617081 | MAE Test Loss: 0.09038344770669937 \n",
            "Epoch: 59 | MAE Train Loss: 0.0385376438498497 | MAE Test Loss: 0.08928143978118896 \n",
            "Epoch: 60 | MAE Train Loss: 0.03818932920694351 | MAE Test Loss: 0.08886633068323135 \n",
            "Epoch: 61 | MAE Train Loss: 0.03785243630409241 | MAE Test Loss: 0.08776430785655975 \n",
            "Epoch: 62 | MAE Train Loss: 0.0375034399330616 | MAE Test Loss: 0.08666229248046875 \n",
            "Epoch: 63 | MAE Train Loss: 0.037164121866226196 | MAE Test Loss: 0.08624717593193054 \n",
            "Epoch: 64 | MAE Train Loss: 0.03681822493672371 | MAE Test Loss: 0.08514519035816193 \n",
            "Epoch: 65 | MAE Train Loss: 0.03647511452436447 | MAE Test Loss: 0.08473004400730133 \n",
            "Epoch: 66 | MAE Train Loss: 0.03613303601741791 | MAE Test Loss: 0.08362803608179092 \n",
            "Epoch: 67 | MAE Train Loss: 0.03578609973192215 | MAE Test Loss: 0.08321291208267212 \n",
            "Epoch: 68 | MAE Train Loss: 0.03544783592224121 | MAE Test Loss: 0.08211090415716171 \n",
            "Epoch: 69 | MAE Train Loss: 0.035098835825920105 | MAE Test Loss: 0.0810088962316513 \n",
            "Epoch: 70 | MAE Train Loss: 0.03476089984178543 | MAE Test Loss: 0.0805937647819519 \n",
            "Epoch: 71 | MAE Train Loss: 0.03441363573074341 | MAE Test Loss: 0.0794917643070221 \n",
            "Epoch: 72 | MAE Train Loss: 0.03407188132405281 | MAE Test Loss: 0.07907666265964508 \n",
            "Epoch: 73 | MAE Train Loss: 0.03372843936085701 | MAE Test Loss: 0.07797462493181229 \n",
            "Epoch: 74 | MAE Train Loss: 0.03338287025690079 | MAE Test Loss: 0.07755951583385468 \n",
            "Epoch: 75 | MAE Train Loss: 0.033043231815099716 | MAE Test Loss: 0.07645749300718307 \n",
            "Epoch: 76 | MAE Train Loss: 0.03269423171877861 | MAE Test Loss: 0.07535548508167267 \n",
            "Epoch: 77 | MAE Train Loss: 0.032357655465602875 | MAE Test Loss: 0.07494036853313446 \n",
            "Epoch: 78 | MAE Train Loss: 0.03200903534889221 | MAE Test Loss: 0.07383836805820465 \n",
            "Epoch: 79 | MAE Train Loss: 0.03166864812374115 | MAE Test Loss: 0.07342323660850525 \n",
            "Epoch: 80 | MAE Train Loss: 0.03132382780313492 | MAE Test Loss: 0.07232122868299484 \n",
            "Epoch: 81 | MAE Train Loss: 0.030979642644524574 | MAE Test Loss: 0.07190609723329544 \n",
            "Epoch: 82 | MAE Train Loss: 0.030638623982667923 | MAE Test Loss: 0.07080408930778503 \n",
            "Epoch: 83 | MAE Train Loss: 0.0302906334400177 | MAE Test Loss: 0.07038896530866623 \n",
            "Epoch: 84 | MAE Train Loss: 0.029953425750136375 | MAE Test Loss: 0.06928696483373642 \n",
            "Epoch: 85 | MAE Train Loss: 0.02960442565381527 | MAE Test Loss: 0.06818496435880661 \n",
            "Epoch: 86 | MAE Train Loss: 0.029265418648719788 | MAE Test Loss: 0.0677698403596878 \n",
            "Epoch: 87 | MAE Train Loss: 0.028919223695993423 | MAE Test Loss: 0.0666678324341774 \n",
            "Epoch: 88 | MAE Train Loss: 0.028576409444212914 | MAE Test Loss: 0.066252700984478 \n",
            "Epoch: 89 | MAE Train Loss: 0.028234025463461876 | MAE Test Loss: 0.06515069305896759 \n",
            "Epoch: 90 | MAE Train Loss: 0.02788739837706089 | MAE Test Loss: 0.06473556160926819 \n",
            "Epoch: 91 | MAE Train Loss: 0.02754882536828518 | MAE Test Loss: 0.06363357603549957 \n",
            "Epoch: 92 | MAE Train Loss: 0.027199819684028625 | MAE Test Loss: 0.06253156810998917 \n",
            "Epoch: 93 | MAE Train Loss: 0.026862185448408127 | MAE Test Loss: 0.062116436660289764 \n",
            "Epoch: 94 | MAE Train Loss: 0.02651461586356163 | MAE Test Loss: 0.061014432460069656 \n",
            "Epoch: 95 | MAE Train Loss: 0.026173178106546402 | MAE Test Loss: 0.06059930846095085 \n",
            "Epoch: 96 | MAE Train Loss: 0.025829419493675232 | MAE Test Loss: 0.05949730426073074 \n",
            "Epoch: 97 | MAE Train Loss: 0.02548416517674923 | MAE Test Loss: 0.05908216908574104 \n",
            "Epoch: 98 | MAE Train Loss: 0.025144213810563087 | MAE Test Loss: 0.057980168610811234 \n",
            "Epoch: 99 | MAE Train Loss: 0.02479521557688713 | MAE Test Loss: 0.05687814950942993 \n"
          ]
        }
      ]
    },
    {
      "cell_type": "code",
      "source": [
        "plt.plot(epoch_count, train_loss_values, label=\"Train loss\")\n",
        "plt.plot(epoch_count, test_loss_values, label=\"Test loss\")\n",
        "plt.title(\"Training and test loss curves\")\n",
        "plt.ylabel(\"Loss\")\n",
        "plt.xlabel(\"Epochs\")\n",
        "plt.legend();"
      ],
      "metadata": {
        "colab": {
          "base_uri": "https://localhost:8080/",
          "height": 472
        },
        "id": "m8BTDe9amFBN",
        "outputId": "da38d7bb-fd5e-4fe8-f979-209ef0996e28"
      },
      "execution_count": 23,
      "outputs": [
        {
          "output_type": "display_data",
          "data": {
            "text/plain": [
              "<Figure size 640x480 with 1 Axes>"
            ],
            "image/png": "[encoded data removed]"
          },
          "metadata": {}
        }
      ]
    },
    {
      "cell_type": "code",
      "source": [],
      "metadata": {
        "id": "WHbvClNhmFSi"
      },
      "execution_count": null,
      "outputs": []
    },
    {
      "cell_type": "code",
      "source": [],
      "metadata": {
        "id": "C6W5CE_nmFb8"
      },
      "execution_count": null,
      "outputs": []
    },
    {
      "cell_type": "code",
      "source": [],
      "metadata": {
        "id": "OZKIhSB9mFld"
      },
      "execution_count": null,
      "outputs": []
    }
  ]
}